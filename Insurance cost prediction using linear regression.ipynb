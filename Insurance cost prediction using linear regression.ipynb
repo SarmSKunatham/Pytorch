{
 "cells": [
  {
   "cell_type": "markdown",
   "metadata": {},
   "source": [
    "# Import"
   ]
  },
  {
   "cell_type": "code",
   "execution_count": 84,
   "metadata": {},
   "outputs": [],
   "source": [
    "import torch\n",
    "import torchvision\n",
    "import pandas as pd\n",
    "import numpy as np\n",
    "import matplotlib.pyplot as plt\n",
    "import torch.nn.functional as F \n",
    "from torchvision.datasets.utils import download_url\n",
    "from torch.utils.data import DataLoader, TensorDataset, random_split\n",
    "import torch.nn as nn"
   ]
  },
  {
   "cell_type": "markdown",
   "metadata": {},
   "source": [
    "# Download and Explore the data"
   ]
  },
  {
   "cell_type": "code",
   "execution_count": 2,
   "metadata": {},
   "outputs": [
    {
     "name": "stderr",
     "output_type": "stream",
     "text": [
      "83.0%"
     ]
    },
    {
     "name": "stdout",
     "output_type": "stream",
     "text": [
      "Downloading https://gist.githubusercontent.com/BirajCoder/5f068dfe759c1ea6bdfce9535acdb72d/raw/c84d84e3c80f93be67f6c069cbdc0195ec36acbd/insurance.csv to ./insurance.csv\n"
     ]
    },
    {
     "name": "stderr",
     "output_type": "stream",
     "text": [
      "101.9%\n"
     ]
    }
   ],
   "source": [
    "DATASET_URL = \"https://gist.github.com/BirajCoder/5f068dfe759c1ea6bdfce9535acdb72d/raw/c84d84e3c80f93be67f6c069cbdc0195ec36acbd/insurance.csv\"\n",
    "DATA_FILENAME = \"insurance.csv\"\n",
    "download_url(DATASET_URL, \".\")"
   ]
  },
  {
   "cell_type": "code",
   "execution_count": 35,
   "metadata": {},
   "outputs": [
    {
     "data": {
      "text/html": [
       "<div>\n",
       "<style scoped>\n",
       "    .dataframe tbody tr th:only-of-type {\n",
       "        vertical-align: middle;\n",
       "    }\n",
       "\n",
       "    .dataframe tbody tr th {\n",
       "        vertical-align: top;\n",
       "    }\n",
       "\n",
       "    .dataframe thead th {\n",
       "        text-align: right;\n",
       "    }\n",
       "</style>\n",
       "<table border=\"1\" class=\"dataframe\">\n",
       "  <thead>\n",
       "    <tr style=\"text-align: right;\">\n",
       "      <th></th>\n",
       "      <th>age</th>\n",
       "      <th>sex</th>\n",
       "      <th>bmi</th>\n",
       "      <th>children</th>\n",
       "      <th>smoker</th>\n",
       "      <th>region</th>\n",
       "      <th>charges</th>\n",
       "    </tr>\n",
       "  </thead>\n",
       "  <tbody>\n",
       "    <tr>\n",
       "      <th>0</th>\n",
       "      <td>19</td>\n",
       "      <td>female</td>\n",
       "      <td>27.900</td>\n",
       "      <td>0</td>\n",
       "      <td>yes</td>\n",
       "      <td>southwest</td>\n",
       "      <td>16884.92400</td>\n",
       "    </tr>\n",
       "    <tr>\n",
       "      <th>1</th>\n",
       "      <td>18</td>\n",
       "      <td>male</td>\n",
       "      <td>33.770</td>\n",
       "      <td>1</td>\n",
       "      <td>no</td>\n",
       "      <td>southeast</td>\n",
       "      <td>1725.55230</td>\n",
       "    </tr>\n",
       "    <tr>\n",
       "      <th>2</th>\n",
       "      <td>28</td>\n",
       "      <td>male</td>\n",
       "      <td>33.000</td>\n",
       "      <td>3</td>\n",
       "      <td>no</td>\n",
       "      <td>southeast</td>\n",
       "      <td>4449.46200</td>\n",
       "    </tr>\n",
       "    <tr>\n",
       "      <th>3</th>\n",
       "      <td>33</td>\n",
       "      <td>male</td>\n",
       "      <td>22.705</td>\n",
       "      <td>0</td>\n",
       "      <td>no</td>\n",
       "      <td>northwest</td>\n",
       "      <td>21984.47061</td>\n",
       "    </tr>\n",
       "    <tr>\n",
       "      <th>4</th>\n",
       "      <td>32</td>\n",
       "      <td>male</td>\n",
       "      <td>28.880</td>\n",
       "      <td>0</td>\n",
       "      <td>no</td>\n",
       "      <td>northwest</td>\n",
       "      <td>3866.85520</td>\n",
       "    </tr>\n",
       "  </tbody>\n",
       "</table>\n",
       "</div>"
      ],
      "text/plain": [
       "   age     sex     bmi  children smoker     region      charges\n",
       "0   19  female  27.900         0    yes  southwest  16884.92400\n",
       "1   18    male  33.770         1     no  southeast   1725.55230\n",
       "2   28    male  33.000         3     no  southeast   4449.46200\n",
       "3   33    male  22.705         0     no  northwest  21984.47061\n",
       "4   32    male  28.880         0     no  northwest   3866.85520"
      ]
     },
     "execution_count": 35,
     "metadata": {},
     "output_type": "execute_result"
    }
   ],
   "source": [
    "df = pd.read_csv(\"insurance.csv\")\n",
    "df.head()"
   ]
  },
  {
   "cell_type": "code",
   "execution_count": 36,
   "metadata": {},
   "outputs": [
    {
     "name": "stdout",
     "output_type": "stream",
     "text": [
      "1338\n"
     ]
    }
   ],
   "source": [
    "num_rows = df.shape[0]\n",
    "print(num_rows)"
   ]
  },
  {
   "cell_type": "code",
   "execution_count": 37,
   "metadata": {},
   "outputs": [
    {
     "name": "stdout",
     "output_type": "stream",
     "text": [
      "7\n"
     ]
    }
   ],
   "source": [
    "num_cols = df.shape[1]\n",
    "print(num_cols)"
   ]
  },
  {
   "cell_type": "code",
   "execution_count": 45,
   "metadata": {},
   "outputs": [
    {
     "data": {
      "text/plain": [
       "['age', 'sex', 'bmi', 'children', 'smoker', 'region']"
      ]
     },
     "execution_count": 45,
     "metadata": {},
     "output_type": "execute_result"
    }
   ],
   "source": [
    "input_cols = [\"age\", \"sex\", \"bmi\", \"children\", \"smoker\", \"region\"]\n",
    "input_cols"
   ]
  },
  {
   "cell_type": "code",
   "execution_count": 46,
   "metadata": {},
   "outputs": [
    {
     "data": {
      "text/plain": [
       "['sex', 'smoker', 'region']"
      ]
     },
     "execution_count": 46,
     "metadata": {},
     "output_type": "execute_result"
    }
   ],
   "source": [
    "# Which of the input columns are non-numeric or categorial variables ?\n",
    "categorical_cols = [\"sex\", \"smoker\", \"region\"]\n",
    "categorical_cols"
   ]
  },
  {
   "cell_type": "code",
   "execution_count": 47,
   "metadata": {},
   "outputs": [
    {
     "data": {
      "text/plain": [
       "['charges']"
      ]
     },
     "execution_count": 47,
     "metadata": {},
     "output_type": "execute_result"
    }
   ],
   "source": [
    "output_cols = [\"charges\"]\n",
    "output_cols"
   ]
  },
  {
   "cell_type": "markdown",
   "metadata": {},
   "source": [
    "# Prepare the dataset for training"
   ]
  },
  {
   "cell_type": "code",
   "execution_count": 111,
   "metadata": {},
   "outputs": [],
   "source": [
    "def dataframe_to_tensor(dataframe):\n",
    "    # Make a copy\n",
    "    df = dataframe.copy()\n",
    "    # Convert non-numerical columns to number\n",
    "    for col in categorical_cols:\n",
    "        df[col] = df[col].astype(\"category\").cat.codes\n",
    "    # Extract input & optput as numpy array\n",
    "    inputs_array = df[input_cols].to_numpy().astype(np.float32)\n",
    "    targets_array = df[output_cols].to_numpy().astype(np.float32)\n",
    "\n",
    "    return inputs_array, targets_array"
   ]
  },
  {
   "cell_type": "code",
   "execution_count": 112,
   "metadata": {},
   "outputs": [],
   "source": [
    "# Convert df to np array\n",
    "inputs_array, outputs_array = dataframe_to_tensor(df)"
   ]
  },
  {
   "cell_type": "code",
   "execution_count": 113,
   "metadata": {},
   "outputs": [
    {
     "data": {
      "text/plain": [
       "array([[19.  ,  0.  , 27.9 ,  0.  ,  1.  ,  3.  ],\n",
       "       [18.  ,  1.  , 33.77,  1.  ,  0.  ,  2.  ],\n",
       "       [28.  ,  1.  , 33.  ,  3.  ,  0.  ,  2.  ],\n",
       "       ...,\n",
       "       [18.  ,  0.  , 36.85,  0.  ,  0.  ,  2.  ],\n",
       "       [21.  ,  0.  , 25.8 ,  0.  ,  0.  ,  3.  ],\n",
       "       [61.  ,  0.  , 29.07,  0.  ,  1.  ,  1.  ]], dtype=float32)"
      ]
     },
     "execution_count": 113,
     "metadata": {},
     "output_type": "execute_result"
    }
   ],
   "source": [
    "inputs_array"
   ]
  },
  {
   "cell_type": "code",
   "execution_count": 114,
   "metadata": {},
   "outputs": [
    {
     "data": {
      "text/plain": [
       "array([[16884.924 ],\n",
       "       [ 1725.5522],\n",
       "       [ 4449.462 ],\n",
       "       ...,\n",
       "       [ 1629.8335],\n",
       "       [ 2007.945 ],\n",
       "       [29141.36  ]], dtype=float32)"
      ]
     },
     "execution_count": 114,
     "metadata": {},
     "output_type": "execute_result"
    }
   ],
   "source": [
    "outputs_array"
   ]
  },
  {
   "cell_type": "code",
   "execution_count": 115,
   "metadata": {},
   "outputs": [],
   "source": [
    "# Convert np to tensor\n",
    "inputs = torch.from_numpy(inputs_array)\n",
    "targets = torch.from_numpy(outputs_array)"
   ]
  },
  {
   "cell_type": "code",
   "execution_count": 116,
   "metadata": {},
   "outputs": [
    {
     "name": "stdout",
     "output_type": "stream",
     "text": [
      "tensor([[19.0000,  0.0000, 27.9000,  0.0000,  1.0000,  3.0000],\n",
      "        [18.0000,  1.0000, 33.7700,  1.0000,  0.0000,  2.0000],\n",
      "        [28.0000,  1.0000, 33.0000,  3.0000,  0.0000,  2.0000],\n",
      "        ...,\n",
      "        [18.0000,  0.0000, 36.8500,  0.0000,  0.0000,  2.0000],\n",
      "        [21.0000,  0.0000, 25.8000,  0.0000,  0.0000,  3.0000],\n",
      "        [61.0000,  0.0000, 29.0700,  0.0000,  1.0000,  1.0000]]) torch.Size([1338, 6])\n",
      "tensor([[16884.9238],\n",
      "        [ 1725.5522],\n",
      "        [ 4449.4619],\n",
      "        ...,\n",
      "        [ 1629.8335],\n",
      "        [ 2007.9449],\n",
      "        [29141.3594]]) torch.Size([1338, 1])\n"
     ]
    }
   ],
   "source": [
    "print(inputs, inputs.shape)\n",
    "print(targets, targets.shape)"
   ]
  },
  {
   "cell_type": "code",
   "execution_count": 117,
   "metadata": {},
   "outputs": [
    {
     "name": "stdout",
     "output_type": "stream",
     "text": [
      "(tensor([19.0000,  0.0000, 27.9000,  0.0000,  1.0000,  3.0000]), tensor([16884.9238]))\n"
     ]
    }
   ],
   "source": [
    "# Create PyTorch dataset\n",
    "dataset = TensorDataset(inputs, targets)\n",
    "print(dataset[0])"
   ]
  },
  {
   "cell_type": "code",
   "execution_count": 118,
   "metadata": {},
   "outputs": [
    {
     "name": "stdout",
     "output_type": "stream",
     "text": [
      "1071 267\n"
     ]
    }
   ],
   "source": [
    "# Split train and validation\n",
    "val_percent = 0.2\n",
    "val_size = int(num_rows * 0.2)\n",
    "train_size = num_rows - val_size\n",
    "train_ds, val_ds = random_split(dataset, [train_size, val_size])\n",
    "print(len(train_ds), len(val_ds))"
   ]
  },
  {
   "cell_type": "code",
   "execution_count": 119,
   "metadata": {},
   "outputs": [],
   "source": [
    "# Batch size\n",
    "batch_size = 32\n",
    "# Data Loader\n",
    "train_dl = DataLoader(train_ds, batch_size=batch_size, shuffle=True)\n",
    "val_dl = DataLoader(val_ds, batch_size=batch_size)"
   ]
  },
  {
   "cell_type": "code",
   "execution_count": 120,
   "metadata": {},
   "outputs": [
    {
     "name": "stdout",
     "output_type": "stream",
     "text": [
      "Inputs: tensor([[26.0000,  1.0000, 30.0000,  1.0000,  0.0000,  3.0000],\n",
      "        [30.0000,  1.0000, 35.5300,  0.0000,  1.0000,  2.0000],\n",
      "        [46.0000,  0.0000, 30.8000,  3.0000,  0.0000,  3.0000],\n",
      "        [21.0000,  1.0000, 23.7500,  2.0000,  0.0000,  1.0000],\n",
      "        [40.0000,  0.0000, 29.6000,  0.0000,  0.0000,  3.0000],\n",
      "        [26.0000,  0.0000, 28.7850,  0.0000,  0.0000,  0.0000],\n",
      "        [19.0000,  0.0000, 36.5750,  0.0000,  0.0000,  1.0000],\n",
      "        [60.0000,  1.0000, 28.9000,  0.0000,  0.0000,  3.0000],\n",
      "        [19.0000,  1.0000, 30.2500,  0.0000,  1.0000,  2.0000],\n",
      "        [53.0000,  1.0000, 28.8800,  0.0000,  0.0000,  1.0000],\n",
      "        [34.0000,  1.0000, 25.2700,  1.0000,  0.0000,  1.0000],\n",
      "        [50.0000,  1.0000, 25.3000,  0.0000,  0.0000,  2.0000],\n",
      "        [20.0000,  0.0000, 28.7850,  0.0000,  0.0000,  0.0000],\n",
      "        [43.0000,  0.0000, 35.6400,  1.0000,  0.0000,  2.0000],\n",
      "        [37.0000,  0.0000, 30.8000,  2.0000,  0.0000,  2.0000],\n",
      "        [57.0000,  0.0000, 28.7850,  4.0000,  0.0000,  0.0000],\n",
      "        [52.0000,  1.0000, 24.3200,  3.0000,  1.0000,  0.0000],\n",
      "        [30.0000,  1.0000, 22.9900,  2.0000,  1.0000,  1.0000],\n",
      "        [51.0000,  0.0000, 40.6600,  0.0000,  0.0000,  0.0000],\n",
      "        [19.0000,  1.0000, 34.8000,  0.0000,  1.0000,  3.0000],\n",
      "        [34.0000,  0.0000, 27.7200,  0.0000,  0.0000,  2.0000],\n",
      "        [30.0000,  0.0000, 27.7000,  0.0000,  0.0000,  3.0000],\n",
      "        [36.0000,  0.0000, 22.6000,  2.0000,  1.0000,  3.0000],\n",
      "        [60.0000,  0.0000, 24.0350,  0.0000,  0.0000,  1.0000],\n",
      "        [45.0000,  0.0000, 33.1000,  0.0000,  0.0000,  3.0000],\n",
      "        [19.0000,  1.0000, 20.9000,  1.0000,  0.0000,  3.0000],\n",
      "        [60.0000,  0.0000, 38.0600,  0.0000,  0.0000,  2.0000],\n",
      "        [31.0000,  1.0000, 27.6450,  2.0000,  0.0000,  0.0000],\n",
      "        [32.0000,  0.0000, 29.5900,  1.0000,  0.0000,  2.0000],\n",
      "        [25.0000,  1.0000, 35.6250,  0.0000,  0.0000,  1.0000],\n",
      "        [33.0000,  1.0000, 35.7500,  2.0000,  0.0000,  2.0000],\n",
      "        [56.0000,  0.0000, 25.3000,  0.0000,  0.0000,  3.0000]])\n",
      "Targets: tensor([[ 2904.0879],\n",
      "        [36950.2578],\n",
      "        [ 9414.9199],\n",
      "        [ 3077.0955],\n",
      "        [ 5910.9438],\n",
      "        [ 3385.3992],\n",
      "        [ 2136.8823],\n",
      "        [12146.9707],\n",
      "        [32548.3398],\n",
      "        [ 9869.8105],\n",
      "        [ 4894.7534],\n",
      "        [ 8442.6670],\n",
      "        [ 2457.2112],\n",
      "        [ 7345.7266],\n",
      "        [ 6313.7588],\n",
      "        [14394.3984],\n",
      "        [24869.8359],\n",
      "        [17361.7656],\n",
      "        [ 9875.6807],\n",
      "        [34779.6133],\n",
      "        [ 4415.1587],\n",
      "        [ 3554.2029],\n",
      "        [18608.2617],\n",
      "        [13012.2090],\n",
      "        [ 7345.0840],\n",
      "        [ 1832.0940],\n",
      "        [12648.7031],\n",
      "        [ 5031.2695],\n",
      "        [ 4562.8423],\n",
      "        [ 2534.3938],\n",
      "        [ 4889.9995],\n",
      "        [11070.5352]])\n"
     ]
    }
   ],
   "source": [
    "# Check each batch of data\n",
    "for xb, yb in train_dl:\n",
    "    print(f\"Inputs: {xb}\")\n",
    "    print(f\"Targets: {yb}\")\n",
    "    break"
   ]
  },
  {
   "cell_type": "markdown",
   "metadata": {},
   "source": [
    "# Create Linear Regression Model"
   ]
  },
  {
   "cell_type": "code",
   "execution_count": 121,
   "metadata": {},
   "outputs": [
    {
     "name": "stdout",
     "output_type": "stream",
     "text": [
      "6 1\n"
     ]
    }
   ],
   "source": [
    "input_size = len(input_cols)\n",
    "output_size = len(output_cols)\n",
    "print(input_size, output_size)"
   ]
  },
  {
   "cell_type": "code",
   "execution_count": 164,
   "metadata": {},
   "outputs": [],
   "source": [
    "# Create a model\n",
    "class InsuranceModel(nn.Module):\n",
    "    def __init__(self):\n",
    "        super().__init__()\n",
    "        self.linear = nn.Linear(input_size, output_size)\n",
    "\n",
    "    def forward(self, xb):\n",
    "        out = self.linear(xb)\n",
    "        return out\n",
    "\n",
    "    def training_step(self, batch):\n",
    "        inputs, targets = batch\n",
    "        # Generate prediction\n",
    "        out = self(inputs)\n",
    "        # Calculate loss\n",
    "        loss = F.l1_loss(out, targets)\n",
    "        return loss\n",
    "\n",
    "    def validation_step(self, batch):\n",
    "        inputs, targets = batch\n",
    "        # Generate prediction\n",
    "        out = self(inputs)\n",
    "        # Calculate loss\n",
    "        loss = F.l1_loss(out, targets)\n",
    "        return {'val_loss': loss.detach()}\n",
    "\n",
    "    def validation_epoch_end(self, outputs):\n",
    "        batch_losses = [x['val_loss'] for x in outputs]\n",
    "        epoch_loss = torch.stack(batch_losses).mean() # Combine losses\n",
    "        return {'val_loss': epoch_loss.item()}\n",
    "\n",
    "    def epoch_end(self, epoch, result, num_epochs):\n",
    "        # Print result\n",
    "        print(f\"Epoch : [{epoch+1}/{num_epochs}], val_loss: {result['val_loss']:.4f}\")\n",
    "\n",
    "        "
   ]
  },
  {
   "cell_type": "code",
   "execution_count": 165,
   "metadata": {},
   "outputs": [],
   "source": [
    "model = InsuranceModel()"
   ]
  },
  {
   "cell_type": "code",
   "execution_count": 166,
   "metadata": {},
   "outputs": [
    {
     "data": {
      "text/plain": [
       "[Parameter containing:\n",
       " tensor([[ 0.0612, -0.2110, -0.2813, -0.2310,  0.0479, -0.1714]],\n",
       "        requires_grad=True),\n",
       " Parameter containing:\n",
       " tensor([-0.3317], requires_grad=True)]"
      ]
     },
     "execution_count": 166,
     "metadata": {},
     "output_type": "execute_result"
    }
   ],
   "source": [
    "list(model.parameters())"
   ]
  },
  {
   "cell_type": "markdown",
   "metadata": {},
   "source": [
    "# Train the model and fit the data"
   ]
  },
  {
   "cell_type": "code",
   "execution_count": 167,
   "metadata": {},
   "outputs": [],
   "source": [
    "def evaluate(model, val_dl):\n",
    "    outputs = [model.validation_step(batch) for batch in val_dl]\n",
    "    return model.validation_epoch_end(outputs)"
   ]
  },
  {
   "cell_type": "code",
   "execution_count": 168,
   "metadata": {},
   "outputs": [],
   "source": [
    "def fit(epochs, lr, model, train_dl, val_dl, opt_func=torch.optim.SGD):\n",
    "    history = []\n",
    "    optimizer = opt_func(model.parameters(), lr)\n",
    "\n",
    "    for epoch in range(epochs):\n",
    "        # Training Phase\n",
    "        for batch in train_dl:\n",
    "            loss = model.training_step(batch)\n",
    "            loss.backward()\n",
    "            optimizer.step()\n",
    "            optimizer.zero_grad()\n",
    "        # Validation Phase\n",
    "        result = evaluate(model, val_dl) # Get mean loss of each batch\n",
    "        model.epoch_end(epoch, result, epochs)\n",
    "        history.append(result)\n",
    "    return history"
   ]
  },
  {
   "cell_type": "code",
   "execution_count": 169,
   "metadata": {},
   "outputs": [
    {
     "name": "stdout",
     "output_type": "stream",
     "text": [
      "{'val_loss': 12860.5146484375}\n"
     ]
    }
   ],
   "source": [
    "result0 = evaluate(model, val_dl)\n",
    "print(result0)\n"
   ]
  },
  {
   "cell_type": "code",
   "execution_count": 171,
   "metadata": {},
   "outputs": [
    {
     "name": "stdout",
     "output_type": "stream",
     "text": [
      "Epoch : [1/100], val_loss: 11989.5986\n",
      "Epoch : [2/100], val_loss: 11618.0283\n",
      "Epoch : [3/100], val_loss: 11254.8115\n",
      "Epoch : [4/100], val_loss: 10896.3867\n",
      "Epoch : [5/100], val_loss: 10542.2510\n",
      "Epoch : [6/100], val_loss: 10197.8799\n",
      "Epoch : [7/100], val_loss: 9864.8291\n",
      "Epoch : [8/100], val_loss: 9549.3779\n",
      "Epoch : [9/100], val_loss: 9255.3506\n",
      "Epoch : [10/100], val_loss: 8981.0830\n",
      "Epoch : [11/100], val_loss: 8727.1143\n",
      "Epoch : [12/100], val_loss: 8491.6660\n",
      "Epoch : [13/100], val_loss: 8276.1211\n",
      "Epoch : [14/100], val_loss: 8074.0469\n",
      "Epoch : [15/100], val_loss: 7875.7290\n",
      "Epoch : [16/100], val_loss: 7679.1587\n",
      "Epoch : [17/100], val_loss: 7484.6841\n",
      "Epoch : [18/100], val_loss: 7294.1270\n",
      "Epoch : [19/100], val_loss: 7108.5190\n",
      "Epoch : [20/100], val_loss: 6920.7231\n",
      "Epoch : [21/100], val_loss: 6735.2490\n",
      "Epoch : [22/100], val_loss: 6549.3457\n",
      "Epoch : [23/100], val_loss: 6363.7944\n",
      "Epoch : [24/100], val_loss: 6179.8306\n",
      "Epoch : [25/100], val_loss: 5994.1646\n",
      "Epoch : [26/100], val_loss: 5806.5640\n",
      "Epoch : [27/100], val_loss: 5627.6211\n",
      "Epoch : [28/100], val_loss: 5465.8569\n",
      "Epoch : [29/100], val_loss: 5350.0479\n",
      "Epoch : [30/100], val_loss: 5284.1587\n",
      "Epoch : [31/100], val_loss: 5248.8159\n",
      "Epoch : [32/100], val_loss: 5226.3867\n",
      "Epoch : [33/100], val_loss: 5211.9526\n",
      "Epoch : [34/100], val_loss: 5203.2397\n",
      "Epoch : [35/100], val_loss: 5197.0464\n",
      "Epoch : [36/100], val_loss: 5193.4097\n",
      "Epoch : [37/100], val_loss: 5189.9473\n",
      "Epoch : [38/100], val_loss: 5187.0156\n",
      "Epoch : [39/100], val_loss: 5184.3516\n",
      "Epoch : [40/100], val_loss: 5181.7212\n",
      "Epoch : [41/100], val_loss: 5179.0957\n",
      "Epoch : [42/100], val_loss: 5176.7129\n",
      "Epoch : [43/100], val_loss: 5174.4302\n",
      "Epoch : [44/100], val_loss: 5172.4126\n",
      "Epoch : [45/100], val_loss: 5170.3315\n",
      "Epoch : [46/100], val_loss: 5168.2710\n",
      "Epoch : [47/100], val_loss: 5166.5054\n",
      "Epoch : [48/100], val_loss: 5164.8652\n",
      "Epoch : [49/100], val_loss: 5163.2124\n",
      "Epoch : [50/100], val_loss: 5161.6152\n",
      "Epoch : [51/100], val_loss: 5160.0596\n",
      "Epoch : [52/100], val_loss: 5158.5635\n",
      "Epoch : [53/100], val_loss: 5157.1733\n",
      "Epoch : [54/100], val_loss: 5155.8350\n",
      "Epoch : [55/100], val_loss: 5154.5679\n",
      "Epoch : [56/100], val_loss: 5153.2949\n",
      "Epoch : [57/100], val_loss: 5152.0615\n",
      "Epoch : [58/100], val_loss: 5150.8379\n",
      "Epoch : [59/100], val_loss: 5150.2095\n",
      "Epoch : [60/100], val_loss: 5149.4551\n",
      "Epoch : [61/100], val_loss: 5148.5278\n",
      "Epoch : [62/100], val_loss: 5148.1821\n",
      "Epoch : [63/100], val_loss: 5147.2051\n",
      "Epoch : [64/100], val_loss: 5146.7754\n",
      "Epoch : [65/100], val_loss: 5146.3145\n",
      "Epoch : [66/100], val_loss: 5145.7095\n",
      "Epoch : [67/100], val_loss: 5145.4355\n",
      "Epoch : [68/100], val_loss: 5144.7178\n",
      "Epoch : [69/100], val_loss: 5144.0356\n",
      "Epoch : [70/100], val_loss: 5142.9668\n",
      "Epoch : [71/100], val_loss: 5142.6685\n",
      "Epoch : [72/100], val_loss: 5142.7476\n",
      "Epoch : [73/100], val_loss: 5142.3750\n",
      "Epoch : [74/100], val_loss: 5142.1362\n",
      "Epoch : [75/100], val_loss: 5141.1499\n",
      "Epoch : [76/100], val_loss: 5141.4814\n",
      "Epoch : [77/100], val_loss: 5140.4775\n",
      "Epoch : [78/100], val_loss: 5140.2041\n",
      "Epoch : [79/100], val_loss: 5139.8472\n",
      "Epoch : [80/100], val_loss: 5139.7500\n",
      "Epoch : [81/100], val_loss: 5139.3984\n",
      "Epoch : [82/100], val_loss: 5139.1719\n",
      "Epoch : [83/100], val_loss: 5139.1011\n",
      "Epoch : [84/100], val_loss: 5138.6147\n",
      "Epoch : [85/100], val_loss: 5138.7461\n",
      "Epoch : [86/100], val_loss: 5138.2666\n",
      "Epoch : [87/100], val_loss: 5138.1938\n",
      "Epoch : [88/100], val_loss: 5137.8086\n",
      "Epoch : [89/100], val_loss: 5137.6968\n",
      "Epoch : [90/100], val_loss: 5137.5127\n",
      "Epoch : [91/100], val_loss: 5137.3174\n",
      "Epoch : [92/100], val_loss: 5137.2529\n",
      "Epoch : [93/100], val_loss: 5137.0015\n",
      "Epoch : [94/100], val_loss: 5136.7974\n",
      "Epoch : [95/100], val_loss: 5136.7017\n",
      "Epoch : [96/100], val_loss: 5136.6597\n",
      "Epoch : [97/100], val_loss: 5136.1006\n",
      "Epoch : [98/100], val_loss: 5136.1611\n",
      "Epoch : [99/100], val_loss: 5136.0454\n",
      "Epoch : [100/100], val_loss: 5135.9731\n"
     ]
    }
   ],
   "source": [
    "epochs = 100\n",
    "lr = 1e-2\n",
    "h1 = fit(epochs, lr, model, train_dl, val_dl)"
   ]
  },
  {
   "cell_type": "markdown",
   "metadata": {},
   "source": [
    "# Make a prediction"
   ]
  },
  {
   "cell_type": "code",
   "execution_count": 174,
   "metadata": {},
   "outputs": [],
   "source": [
    "def predict_single(input, target, model):\n",
    "    inputs = input.unsqueeze(0) # turn to n+1 tensor with parameter 1\n",
    "    prediction = model(inputs)\n",
    "    prediction = prediction[0].detach()\n",
    "    print(\"Input: \", input)\n",
    "    print(\"Target: \", target)\n",
    "    print(\"Prediction: \", prediction)"
   ]
  },
  {
   "cell_type": "code",
   "execution_count": 175,
   "metadata": {},
   "outputs": [
    {
     "name": "stdout",
     "output_type": "stream",
     "text": [
      "Input:  tensor([22.0000,  1.0000, 26.8400,  0.0000,  0.0000,  2.0000])\n",
      "Target:  tensor([1664.9996])\n",
      "Prediction:  tensor([2718.7283])\n"
     ]
    }
   ],
   "source": [
    "input, target = val_ds[0]\n",
    "predict_single(input, target, model)"
   ]
  },
  {
   "cell_type": "code",
   "execution_count": 176,
   "metadata": {},
   "outputs": [
    {
     "name": "stdout",
     "output_type": "stream",
     "text": [
      "Input:  tensor([40.0000,  1.0000, 41.2300,  1.0000,  0.0000,  0.0000])\n",
      "Target:  tensor([6610.1099])\n",
      "Prediction:  tensor([7681.0352])\n"
     ]
    }
   ],
   "source": [
    "input, target = val_ds[10]\n",
    "predict_single(input, target, model)"
   ]
  },
  {
   "cell_type": "code",
   "execution_count": null,
   "metadata": {},
   "outputs": [],
   "source": []
  }
 ],
 "metadata": {
  "interpreter": {
   "hash": "556d83bcbe5232ab1098f783121317d911a13cdd2b4e2102b0fd1bb067df73d7"
  },
  "kernelspec": {
   "display_name": "Python 3.9.12",
   "language": "python",
   "name": "python3"
  },
  "language_info": {
   "codemirror_mode": {
    "name": "ipython",
    "version": 3
   },
   "file_extension": ".py",
   "mimetype": "text/x-python",
   "name": "python",
   "nbconvert_exporter": "python",
   "pygments_lexer": "ipython3",
   "version": "3.9.12"
  },
  "orig_nbformat": 4
 },
 "nbformat": 4,
 "nbformat_minor": 2
}
